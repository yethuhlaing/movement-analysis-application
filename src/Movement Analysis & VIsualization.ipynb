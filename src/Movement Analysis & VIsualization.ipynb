{
 "cells": [
  {
   "cell_type": "code",
   "execution_count": 1,
   "id": "fe24545e",
   "metadata": {},
   "outputs": [],
   "source": [
    "import pandas as pd\n",
    "import numpy as np\n",
    "import matplotlib.pyplot as plt\n",
    "import seaborn as sns\n",
    "import os\n",
    "import timeit\n",
    "import openpyxl\n",
    "from pywaffle import Waffle\n",
    "import math\n",
    "from tabulate import tabulate"
   ]
  },
  {
   "cell_type": "code",
   "execution_count": 2,
   "id": "8db2d6c5",
   "metadata": {},
   "outputs": [
    {
     "name": "stdout",
     "output_type": "stream",
     "text": [
      "Time:  5.630002124235034e-05\n"
     ]
    }
   ],
   "source": [
    "start = timeit.default_timer()\n",
    "\n",
    "stop = timeit.default_timer()\n",
    "print('Time: ', stop - start)  "
   ]
  },
  {
   "cell_type": "code",
   "execution_count": 16,
   "id": "19ae395c",
   "metadata": {},
   "outputs": [
    {
     "data": {
      "text/plain": [
       "['General Information',\n",
       " 'Markers',\n",
       " 'Segment Orientation - Quat',\n",
       " 'Segment Orientation - Euler',\n",
       " 'Segment Position',\n",
       " 'Segment Velocity',\n",
       " 'Segment Acceleration',\n",
       " 'Segment Angular Velocity',\n",
       " 'Segment Angular Acceleration',\n",
       " 'Joint Angles ZXY',\n",
       " 'Joint Angles XZY',\n",
       " 'Ergonomic Joint Angles ZXY',\n",
       " 'Ergonomic Joint Angles XZY',\n",
       " 'Center of Mass',\n",
       " 'Sensor Free Acceleration',\n",
       " 'Sensor Magnetic Field',\n",
       " 'Sensor Orientation - Quat',\n",
       " 'Sensor Orientation - Euler']"
      ]
     },
     "execution_count": 16,
     "metadata": {},
     "output_type": "execute_result"
    }
   ],
   "source": [
    "def readSpreadsheets(fileName:str):\n",
    "    # creating or loading an excel workbook\n",
    "    newWorkbook = openpyxl.load_workbook(fileName)\n",
    "    sheetnamesList = newWorkbook.sheetnames\n",
    "    return sheetnamesList\n",
    "\n",
    "spreadsheetsList = readSpreadsheets(student)\n",
    "spreadsheetsList"
   ]
  },
  {
   "cell_type": "code",
   "execution_count": 2,
   "id": "1b271fd6",
   "metadata": {},
   "outputs": [],
   "source": [
    "# def readCategory(file_path:str, sheet_name:str, category: list, frameRate: int, Duration: float, startingTime: float = 0):\n",
    "    \n",
    "#     df = pd.read_excel(file_path, header=0, index_col= 0 ,sheet_name = sheet_name, usecols = category)\n",
    "#     num_rows = df.shape[0]\n",
    "#     print(num_rows)\n",
    "#     desired_num_rows = math.floor(frameRate*Duration) \n",
    "#     starting_rows =  math.floor(startingTime*frameRate) \n",
    "#     ending_rows = starting_rows + desired_num_rows\n",
    "#     if desired_num_rows > num_rows:     \n",
    "#         return df.iloc[starting_rows:-1]\n",
    "#     else:\n",
    "#         return df.iloc[starting_rows:ending_rows]\n",
    "    \n",
    "def readCategory(file_path:str, sheet_name:str, category: list, duration: int, startingTime: int = 0):\n",
    "    \n",
    "    df = pd.read_excel(file_path, header=0, index_col= 0 ,sheet_name = sheet_name, usecols = category)\n",
    "    starting_rows = startingTime\n",
    "    ending_rows = starting_rows + duration + 1\n",
    "    return df.iloc[starting_rows:ending_rows]"
   ]
  },
  {
   "cell_type": "code",
   "execution_count": 3,
   "id": "b93d53f2",
   "metadata": {},
   "outputs": [
    {
     "name": "stdout",
     "output_type": "stream",
     "text": [
      "Time:  119.09361589999935\n"
     ]
    }
   ],
   "source": [
    "start = timeit.default_timer()\n",
    "reference = r\"../data/REference 240Hz data/Real horse riding/Reference Realhorse1-001dressage.xlsx\"\n",
    "sheet_name = \"Joint Angles ZXY\"\n",
    "category = [\"Frame\", \"L5S1 Lateral Bending\"]\n",
    "reference_df = readCategory(reference, sheet_name, category, 100, 20 )\n",
    "reference_df\n",
    "stop = timeit.default_timer()\n",
    "print('Time: ', stop - start)  "
   ]
  },
  {
   "cell_type": "code",
   "execution_count": 4,
   "id": "0070eb32",
   "metadata": {},
   "outputs": [
    {
     "data": {
      "text/html": [
       "<div>\n",
       "<style scoped>\n",
       "    .dataframe tbody tr th:only-of-type {\n",
       "        vertical-align: middle;\n",
       "    }\n",
       "\n",
       "    .dataframe tbody tr th {\n",
       "        vertical-align: top;\n",
       "    }\n",
       "\n",
       "    .dataframe thead th {\n",
       "        text-align: right;\n",
       "    }\n",
       "</style>\n",
       "<table border=\"1\" class=\"dataframe\">\n",
       "  <thead>\n",
       "    <tr style=\"text-align: right;\">\n",
       "      <th></th>\n",
       "      <th>L5S1 Lateral Bending</th>\n",
       "    </tr>\n",
       "    <tr>\n",
       "      <th>Frame</th>\n",
       "      <th></th>\n",
       "    </tr>\n",
       "  </thead>\n",
       "  <tbody>\n",
       "    <tr>\n",
       "      <th>10</th>\n",
       "      <td>1.781752</td>\n",
       "    </tr>\n",
       "    <tr>\n",
       "      <th>20</th>\n",
       "      <td>1.881491</td>\n",
       "    </tr>\n",
       "    <tr>\n",
       "      <th>30</th>\n",
       "      <td>1.979502</td>\n",
       "    </tr>\n",
       "    <tr>\n",
       "      <th>40</th>\n",
       "      <td>2.097826</td>\n",
       "    </tr>\n",
       "  </tbody>\n",
       "</table>\n",
       "</div>"
      ],
      "text/plain": [
       "       L5S1 Lateral Bending\n",
       "Frame                      \n",
       "10                 1.781752\n",
       "20                 1.881491\n",
       "30                 1.979502\n",
       "40                 2.097826"
      ]
     },
     "execution_count": 4,
     "metadata": {},
     "output_type": "execute_result"
    }
   ],
   "source": [
    "student = r\"C:/Users/yethu/Desktop/Movement Analysis Project/data/Reference downsampled data/Simulator riding/Reference Harjusimu-003 Extended walk.xlsx\"\n",
    "sheet_name = \"Joint Angles ZXY\"\n",
    "category = [\"Frame\", \"L5S1 Lateral Bending\"]\n",
    "# num_rows = 10\n",
    "\n",
    "student_df = readCategory(student,sheet_name, category, 3, 1)\n",
    "student_df"
   ]
  },
  {
   "cell_type": "code",
   "execution_count": 5,
   "id": "fcddb802",
   "metadata": {},
   "outputs": [],
   "source": [
    "# def ComparisionGraph(dataframes: list, dataframe_names: list[str], title: str, x_label: str, y_label: str, min_critical_value: float, max_critical_value: float, figsize: tuple = (15, 5)):\n",
    "#     fig, ax = plt.subplots(figsize= figsize)\n",
    "#     for (dataframe, dataframe_name) in zip(dataframes, dataframe_names):\n",
    "#         ax.plot(dataframe, label= dataframe_name, linewidth=1)\n",
    "#     ax.set_xlabel(x_label)\n",
    "#     ax.set_ylabel(y_label)\n",
    "#     ax.set_title(title)\n",
    "#     ax.axhline(y = max_critical_value, color = 'r', linestyle = '-', label = \"maximum threshold\")\n",
    "#     ax.axhline(y = min_critical_value, color = 'g', linestyle = '-', label = \"minimum threshold\")\n",
    "#     ax.legend()\n",
    "#     return fig\n",
    "\n",
    "def ComparisionGraph(dataframes: list, dataframe_names: list[str], x_label: str, y_label: str, min_critical_value: float, max_critical_value: float, figsize: tuple = (15, 5)):\n",
    "    fig, ax = plt.subplots(figsize= figsize)\n",
    "    for (dataframe, dataframe_name) in zip(dataframes, dataframe_names):\n",
    "        ax.plot(dataframe, label= dataframe_name, linewidth=1)\n",
    "    ax.set_xlabel(x_label)\n",
    "    ax.set_ylabel(y_label)\n",
    "    ax.axhline(y = max_critical_value, color = 'r', linestyle = '-', label = \"maximum threshold\")\n",
    "    ax.axhline(y = min_critical_value, color = 'g', linestyle = '-', label = \"minimum threshold\")\n",
    "    ax.legend()\n",
    "    return fig\n"
   ]
  },
  {
   "cell_type": "code",
   "execution_count": 6,
   "id": "ded6693a",
   "metadata": {},
   "outputs": [
    {
     "data": {
      "image/png": "[encoded data removed]",
      "text/plain": [
       "<Figure size 2000x500 with 1 Axes>"
      ]
     },
     "metadata": {},
     "output_type": "display_data"
    },
    {
     "data": {
      "text/plain": [
       "<Figure size 640x480 with 0 Axes>"
      ]
     },
     "metadata": {},
     "output_type": "display_data"
    }
   ],
   "source": [
    "fig = ComparisionGraph([reference_df, student_df],['reference', 'student'], \"Frames\" , \"L5S1 Lateral Bending\", 1 , 2, (20,5))\n",
    "plt.show()\n",
    "plt.tight_layout()"
   ]
  },
  {
   "cell_type": "code",
   "execution_count": 7,
   "id": "a1a162ef",
   "metadata": {},
   "outputs": [
    {
     "data": {
      "image/png": "[encoded data removed]",
      "text/plain": [
       "<Figure size 1500x500 with 2 Axes>"
      ]
     },
     "metadata": {},
     "output_type": "display_data"
    }
   ],
   "source": [
    "def ComparisionGraph2(dataframes: list, dataframe_names: list[str], title: str, x_labels: list, y_labels: list,min_critical_value, max_critical_value, figsize: tuple = (15, 5), ):    \n",
    "    fig, axes = plt.subplots(1, len(dataframes), figsize= figsize, sharey=True)\n",
    "    fig.suptitle(title)  \n",
    "    for count, (dataframe,dataframe_names)  in enumerate(zip(dataframes,dataframe_names)):\n",
    "        sns.lineplot(ax=axes[count], x= dataframe.index, y=dataframe[\"L5S1 Lateral Bending\"], data=dataframe)\n",
    "        sns.set(style=\"whitegrid\")\n",
    "        axes[count].set_title(dataframe_names)\n",
    "    plt.axhline(y = max_critical_value, color = 'r', linestyle = '-', label = \"maximum threshold\")\n",
    "    plt.axhline(y = min_critical_value, color = 'g', linestyle = '-', label = \"minimum threshold\")\n",
    "    return fig\n",
    "\n",
    "fig = ComparisionGraph2([reference_df, student_df],['reference', 'student'], \"Comparison\", [\"x\", \"x1\"] , [\"y\",\"y1\"],1, 2, (15,5))\n",
    "plt.tight_layout()\n",
    "plt.show()"
   ]
  },
  {
   "cell_type": "code",
   "execution_count": 8,
   "id": "12094f7e",
   "metadata": {},
   "outputs": [
    {
     "data": {
      "text/html": [
       "<div>\n",
       "<style scoped>\n",
       "    .dataframe tbody tr th:only-of-type {\n",
       "        vertical-align: middle;\n",
       "    }\n",
       "\n",
       "    .dataframe tbody tr th {\n",
       "        vertical-align: top;\n",
       "    }\n",
       "\n",
       "    .dataframe thead th {\n",
       "        text-align: right;\n",
       "    }\n",
       "</style>\n",
       "<table border=\"1\" class=\"dataframe\">\n",
       "  <thead>\n",
       "    <tr style=\"text-align: right;\">\n",
       "      <th></th>\n",
       "      <th>L5S1 Lateral Bending</th>\n",
       "    </tr>\n",
       "  </thead>\n",
       "  <tbody>\n",
       "    <tr>\n",
       "      <th>count</th>\n",
       "      <td>101.000000</td>\n",
       "    </tr>\n",
       "    <tr>\n",
       "      <th>mean</th>\n",
       "      <td>2.479481</td>\n",
       "    </tr>\n",
       "    <tr>\n",
       "      <th>std</th>\n",
       "      <td>0.536071</td>\n",
       "    </tr>\n",
       "    <tr>\n",
       "      <th>min</th>\n",
       "      <td>1.762893</td>\n",
       "    </tr>\n",
       "    <tr>\n",
       "      <th>25%</th>\n",
       "      <td>2.061649</td>\n",
       "    </tr>\n",
       "    <tr>\n",
       "      <th>50%</th>\n",
       "      <td>2.343778</td>\n",
       "    </tr>\n",
       "    <tr>\n",
       "      <th>75%</th>\n",
       "      <td>2.867260</td>\n",
       "    </tr>\n",
       "    <tr>\n",
       "      <th>max</th>\n",
       "      <td>3.462292</td>\n",
       "    </tr>\n",
       "  </tbody>\n",
       "</table>\n",
       "</div>"
      ],
      "text/plain": [
       "       L5S1 Lateral Bending\n",
       "count            101.000000\n",
       "mean               2.479481\n",
       "std                0.536071\n",
       "min                1.762893\n",
       "25%                2.061649\n",
       "50%                2.343778\n",
       "75%                2.867260\n",
       "max                3.462292"
      ]
     },
     "execution_count": 8,
     "metadata": {},
     "output_type": "execute_result"
    }
   ],
   "source": [
    "reference_df.describe()"
   ]
  },
  {
   "cell_type": "code",
   "execution_count": 9,
   "id": "000983d5",
   "metadata": {},
   "outputs": [
    {
     "data": {
      "text/html": [
       "<div>\n",
       "<style scoped>\n",
       "    .dataframe tbody tr th:only-of-type {\n",
       "        vertical-align: middle;\n",
       "    }\n",
       "\n",
       "    .dataframe tbody tr th {\n",
       "        vertical-align: top;\n",
       "    }\n",
       "\n",
       "    .dataframe thead th {\n",
       "        text-align: right;\n",
       "    }\n",
       "</style>\n",
       "<table border=\"1\" class=\"dataframe\">\n",
       "  <thead>\n",
       "    <tr style=\"text-align: right;\">\n",
       "      <th></th>\n",
       "      <th>L5S1 Lateral Bending</th>\n",
       "    </tr>\n",
       "  </thead>\n",
       "  <tbody>\n",
       "    <tr>\n",
       "      <th>count</th>\n",
       "      <td>4.000000</td>\n",
       "    </tr>\n",
       "    <tr>\n",
       "      <th>mean</th>\n",
       "      <td>1.935142</td>\n",
       "    </tr>\n",
       "    <tr>\n",
       "      <th>std</th>\n",
       "      <td>0.135205</td>\n",
       "    </tr>\n",
       "    <tr>\n",
       "      <th>min</th>\n",
       "      <td>1.781752</td>\n",
       "    </tr>\n",
       "    <tr>\n",
       "      <th>25%</th>\n",
       "      <td>1.856556</td>\n",
       "    </tr>\n",
       "    <tr>\n",
       "      <th>50%</th>\n",
       "      <td>1.930496</td>\n",
       "    </tr>\n",
       "    <tr>\n",
       "      <th>75%</th>\n",
       "      <td>2.009083</td>\n",
       "    </tr>\n",
       "    <tr>\n",
       "      <th>max</th>\n",
       "      <td>2.097826</td>\n",
       "    </tr>\n",
       "  </tbody>\n",
       "</table>\n",
       "</div>"
      ],
      "text/plain": [
       "       L5S1 Lateral Bending\n",
       "count              4.000000\n",
       "mean               1.935142\n",
       "std                0.135205\n",
       "min                1.781752\n",
       "25%                1.856556\n",
       "50%                1.930496\n",
       "75%                2.009083\n",
       "max                2.097826"
      ]
     },
     "execution_count": 9,
     "metadata": {},
     "output_type": "execute_result"
    }
   ],
   "source": [
    "student_df.describe()"
   ]
  },
  {
   "cell_type": "code",
   "execution_count": 10,
   "id": "4b090cb4",
   "metadata": {},
   "outputs": [
    {
     "ename": "KeyboardInterrupt",
     "evalue": "Interrupted by user",
     "output_type": "error",
     "traceback": [
      "\u001b[1;31m---------------------------------------------------------------------------\u001b[0m",
      "\u001b[1;31mKeyboardInterrupt\u001b[0m                         Traceback (most recent call last)",
      "Cell \u001b[1;32mIn[10], line 1\u001b[0m\n\u001b[1;32m----> 1\u001b[0m min_critical_value \u001b[38;5;241m=\u001b[39m \u001b[38;5;28;43minput\u001b[39;49m\u001b[43m(\u001b[49m\u001b[38;5;124;43mr\u001b[39;49m\u001b[38;5;124;43m\"\u001b[39;49m\u001b[38;5;124;43mEnter the minimum critical value (below which will be regarded as low)\u001b[39;49m\u001b[38;5;124;43m\"\u001b[39;49m\u001b[43m)\u001b[49m\n\u001b[0;32m      2\u001b[0m max_critical_value \u001b[38;5;241m=\u001b[39m \u001b[38;5;28minput\u001b[39m(\u001b[38;5;124mr\u001b[39m\u001b[38;5;124m\"\u001b[39m\u001b[38;5;124mEnter the maximum critical value (below which will be regarded as high)\u001b[39m\u001b[38;5;124m\"\u001b[39m)\n",
      "File \u001b[1;32m~\\anaconda3\\lib\\site-packages\\ipykernel\\kernelbase.py:1175\u001b[0m, in \u001b[0;36mKernel.raw_input\u001b[1;34m(self, prompt)\u001b[0m\n\u001b[0;32m   1171\u001b[0m \u001b[38;5;28;01mif\u001b[39;00m \u001b[38;5;129;01mnot\u001b[39;00m \u001b[38;5;28mself\u001b[39m\u001b[38;5;241m.\u001b[39m_allow_stdin:\n\u001b[0;32m   1172\u001b[0m     \u001b[38;5;28;01mraise\u001b[39;00m StdinNotImplementedError(\n\u001b[0;32m   1173\u001b[0m         \u001b[38;5;124m\"\u001b[39m\u001b[38;5;124mraw_input was called, but this frontend does not support input requests.\u001b[39m\u001b[38;5;124m\"\u001b[39m\n\u001b[0;32m   1174\u001b[0m     )\n\u001b[1;32m-> 1175\u001b[0m \u001b[38;5;28;01mreturn\u001b[39;00m \u001b[38;5;28;43mself\u001b[39;49m\u001b[38;5;241;43m.\u001b[39;49m\u001b[43m_input_request\u001b[49m\u001b[43m(\u001b[49m\n\u001b[0;32m   1176\u001b[0m \u001b[43m    \u001b[49m\u001b[38;5;28;43mstr\u001b[39;49m\u001b[43m(\u001b[49m\u001b[43mprompt\u001b[49m\u001b[43m)\u001b[49m\u001b[43m,\u001b[49m\n\u001b[0;32m   1177\u001b[0m \u001b[43m    \u001b[49m\u001b[38;5;28;43mself\u001b[39;49m\u001b[38;5;241;43m.\u001b[39;49m\u001b[43m_parent_ident\u001b[49m\u001b[43m[\u001b[49m\u001b[38;5;124;43m\"\u001b[39;49m\u001b[38;5;124;43mshell\u001b[39;49m\u001b[38;5;124;43m\"\u001b[39;49m\u001b[43m]\u001b[49m\u001b[43m,\u001b[49m\n\u001b[0;32m   1178\u001b[0m \u001b[43m    \u001b[49m\u001b[38;5;28;43mself\u001b[39;49m\u001b[38;5;241;43m.\u001b[39;49m\u001b[43mget_parent\u001b[49m\u001b[43m(\u001b[49m\u001b[38;5;124;43m\"\u001b[39;49m\u001b[38;5;124;43mshell\u001b[39;49m\u001b[38;5;124;43m\"\u001b[39;49m\u001b[43m)\u001b[49m\u001b[43m,\u001b[49m\n\u001b[0;32m   1179\u001b[0m \u001b[43m    \u001b[49m\u001b[43mpassword\u001b[49m\u001b[38;5;241;43m=\u001b[39;49m\u001b[38;5;28;43;01mFalse\u001b[39;49;00m\u001b[43m,\u001b[49m\n\u001b[0;32m   1180\u001b[0m \u001b[43m\u001b[49m\u001b[43m)\u001b[49m\n",
      "File \u001b[1;32m~\\anaconda3\\lib\\site-packages\\ipykernel\\kernelbase.py:1217\u001b[0m, in \u001b[0;36mKernel._input_request\u001b[1;34m(self, prompt, ident, parent, password)\u001b[0m\n\u001b[0;32m   1214\u001b[0m             \u001b[38;5;28;01mbreak\u001b[39;00m\n\u001b[0;32m   1215\u001b[0m \u001b[38;5;28;01mexcept\u001b[39;00m \u001b[38;5;167;01mKeyboardInterrupt\u001b[39;00m:\n\u001b[0;32m   1216\u001b[0m     \u001b[38;5;66;03m# re-raise KeyboardInterrupt, to truncate traceback\u001b[39;00m\n\u001b[1;32m-> 1217\u001b[0m     \u001b[38;5;28;01mraise\u001b[39;00m \u001b[38;5;167;01mKeyboardInterrupt\u001b[39;00m(\u001b[38;5;124m\"\u001b[39m\u001b[38;5;124mInterrupted by user\u001b[39m\u001b[38;5;124m\"\u001b[39m) \u001b[38;5;28;01mfrom\u001b[39;00m \u001b[38;5;28mNone\u001b[39m\n\u001b[0;32m   1218\u001b[0m \u001b[38;5;28;01mexcept\u001b[39;00m \u001b[38;5;167;01mException\u001b[39;00m:\n\u001b[0;32m   1219\u001b[0m     \u001b[38;5;28mself\u001b[39m\u001b[38;5;241m.\u001b[39mlog\u001b[38;5;241m.\u001b[39mwarning(\u001b[38;5;124m\"\u001b[39m\u001b[38;5;124mInvalid Message:\u001b[39m\u001b[38;5;124m\"\u001b[39m, exc_info\u001b[38;5;241m=\u001b[39m\u001b[38;5;28;01mTrue\u001b[39;00m)\n",
      "\u001b[1;31mKeyboardInterrupt\u001b[0m: Interrupted by user"
     ]
    }
   ],
   "source": [
    "min_critical_value = input(r\"Enter the minimum critical value (below which will be regarded as low)\")\n",
    "max_critical_value = input(r\"Enter the maximum critical value (below which will be regarded as high)\")"
   ]
  },
  {
   "cell_type": "markdown",
   "id": "2e24a20d",
   "metadata": {},
   "source": [
    "### Threshold value"
   ]
  },
  {
   "cell_type": "code",
   "execution_count": 11,
   "id": "20132562",
   "metadata": {},
   "outputs": [
    {
     "data": {
      "text/html": [
       "<div>\n",
       "<style scoped>\n",
       "    .dataframe tbody tr th:only-of-type {\n",
       "        vertical-align: middle;\n",
       "    }\n",
       "\n",
       "    .dataframe tbody tr th {\n",
       "        vertical-align: top;\n",
       "    }\n",
       "\n",
       "    .dataframe thead th {\n",
       "        text-align: right;\n",
       "    }\n",
       "</style>\n",
       "<table border=\"1\" class=\"dataframe\">\n",
       "  <thead>\n",
       "    <tr style=\"text-align: right;\">\n",
       "      <th></th>\n",
       "      <th>L5S1 Lateral Bending</th>\n",
       "      <th>Status</th>\n",
       "    </tr>\n",
       "    <tr>\n",
       "      <th>Frame</th>\n",
       "      <th></th>\n",
       "      <th></th>\n",
       "    </tr>\n",
       "  </thead>\n",
       "  <tbody>\n",
       "    <tr>\n",
       "      <th>20</th>\n",
       "      <td>3.439696</td>\n",
       "      <td>too high</td>\n",
       "    </tr>\n",
       "    <tr>\n",
       "      <th>21</th>\n",
       "      <td>3.451319</td>\n",
       "      <td>too high</td>\n",
       "    </tr>\n",
       "    <tr>\n",
       "      <th>22</th>\n",
       "      <td>3.458980</td>\n",
       "      <td>too high</td>\n",
       "    </tr>\n",
       "    <tr>\n",
       "      <th>23</th>\n",
       "      <td>3.462292</td>\n",
       "      <td>too high</td>\n",
       "    </tr>\n",
       "    <tr>\n",
       "      <th>24</th>\n",
       "      <td>3.461545</td>\n",
       "      <td>too high</td>\n",
       "    </tr>\n",
       "    <tr>\n",
       "      <th>...</th>\n",
       "      <td>...</td>\n",
       "      <td>...</td>\n",
       "    </tr>\n",
       "    <tr>\n",
       "      <th>116</th>\n",
       "      <td>2.521229</td>\n",
       "      <td>too high</td>\n",
       "    </tr>\n",
       "    <tr>\n",
       "      <th>117</th>\n",
       "      <td>2.549931</td>\n",
       "      <td>too high</td>\n",
       "    </tr>\n",
       "    <tr>\n",
       "      <th>118</th>\n",
       "      <td>2.577751</td>\n",
       "      <td>too high</td>\n",
       "    </tr>\n",
       "    <tr>\n",
       "      <th>119</th>\n",
       "      <td>2.604605</td>\n",
       "      <td>too high</td>\n",
       "    </tr>\n",
       "    <tr>\n",
       "      <th>120</th>\n",
       "      <td>2.629085</td>\n",
       "      <td>too high</td>\n",
       "    </tr>\n",
       "  </tbody>\n",
       "</table>\n",
       "<p>101 rows × 2 columns</p>\n",
       "</div>"
      ],
      "text/plain": [
       "       L5S1 Lateral Bending    Status\n",
       "Frame                                \n",
       "20                 3.439696  too high\n",
       "21                 3.451319  too high\n",
       "22                 3.458980  too high\n",
       "23                 3.462292  too high\n",
       "24                 3.461545  too high\n",
       "...                     ...       ...\n",
       "116                2.521229  too high\n",
       "117                2.549931  too high\n",
       "118                2.577751  too high\n",
       "119                2.604605  too high\n",
       "120                2.629085  too high\n",
       "\n",
       "[101 rows x 2 columns]"
      ]
     },
     "execution_count": 11,
     "metadata": {},
     "output_type": "execute_result"
    }
   ],
   "source": [
    "def calculateThreshold(df, category, min_critical_value, max_critical_value):\n",
    "    statusDataframe = pd.DataFrame(df)\n",
    "    if min_critical_value is None or max_critical_value is None:\n",
    "        min_critical_value = df[category].describe().min()\n",
    "        max_critical_value = df[category].describe().max()\n",
    "    statusDataframe[\"Status\"] = statusDataframe[category].apply(lambda x: \"too low\" if x < min_critical_value else (\"too high\" if x > max_critical_value else \"optimal\"))\n",
    "    return statusDataframe\n",
    "\n",
    "statusDataframe = calculateThreshold(reference_df,\"L5S1 Lateral Bending\",1.8, 2)\n",
    "statusDataframe"
   ]
  },
  {
   "cell_type": "code",
   "execution_count": 12,
   "id": "2ac6ad1d",
   "metadata": {},
   "outputs": [
    {
     "ename": "KeyError",
     "evalue": "'medium'",
     "output_type": "error",
     "traceback": [
      "\u001b[1;31m---------------------------------------------------------------------------\u001b[0m",
      "\u001b[1;31mKeyError\u001b[0m                                  Traceback (most recent call last)",
      "File \u001b[1;32m~\\anaconda3\\lib\\site-packages\\pandas\\core\\indexes\\base.py:3802\u001b[0m, in \u001b[0;36mIndex.get_loc\u001b[1;34m(self, key, method, tolerance)\u001b[0m\n\u001b[0;32m   3801\u001b[0m \u001b[38;5;28;01mtry\u001b[39;00m:\n\u001b[1;32m-> 3802\u001b[0m     \u001b[38;5;28;01mreturn\u001b[39;00m \u001b[38;5;28;43mself\u001b[39;49m\u001b[38;5;241;43m.\u001b[39;49m\u001b[43m_engine\u001b[49m\u001b[38;5;241;43m.\u001b[39;49m\u001b[43mget_loc\u001b[49m\u001b[43m(\u001b[49m\u001b[43mcasted_key\u001b[49m\u001b[43m)\u001b[49m\n\u001b[0;32m   3803\u001b[0m \u001b[38;5;28;01mexcept\u001b[39;00m \u001b[38;5;167;01mKeyError\u001b[39;00m \u001b[38;5;28;01mas\u001b[39;00m err:\n",
      "File \u001b[1;32m~\\anaconda3\\lib\\site-packages\\pandas\\_libs\\index.pyx:138\u001b[0m, in \u001b[0;36mpandas._libs.index.IndexEngine.get_loc\u001b[1;34m()\u001b[0m\n",
      "File \u001b[1;32m~\\anaconda3\\lib\\site-packages\\pandas\\_libs\\index.pyx:165\u001b[0m, in \u001b[0;36mpandas._libs.index.IndexEngine.get_loc\u001b[1;34m()\u001b[0m\n",
      "File \u001b[1;32mpandas\\_libs\\hashtable_class_helper.pxi:5745\u001b[0m, in \u001b[0;36mpandas._libs.hashtable.PyObjectHashTable.get_item\u001b[1;34m()\u001b[0m\n",
      "File \u001b[1;32mpandas\\_libs\\hashtable_class_helper.pxi:5753\u001b[0m, in \u001b[0;36mpandas._libs.hashtable.PyObjectHashTable.get_item\u001b[1;34m()\u001b[0m\n",
      "\u001b[1;31mKeyError\u001b[0m: 'medium'",
      "\nThe above exception was the direct cause of the following exception:\n",
      "\u001b[1;31mKeyError\u001b[0m                                  Traceback (most recent call last)",
      "Cell \u001b[1;32mIn[12], line 14\u001b[0m\n\u001b[0;32m     11\u001b[0m     \u001b[38;5;28mprint\u001b[39m(\u001b[38;5;124m\"\u001b[39m\u001b[38;5;124mOut of Range per minute:\u001b[39m\u001b[38;5;124m\"\u001b[39m, rate)\n\u001b[0;32m     12\u001b[0m     \u001b[38;5;28;01mreturn\u001b[39;00m \u001b[38;5;28;01mNone\u001b[39;00m\n\u001b[1;32m---> 14\u001b[0m \u001b[43moutputCriticalValues\u001b[49m\u001b[43m(\u001b[49m\u001b[43mstatusDataframe\u001b[49m\u001b[43m,\u001b[49m\u001b[43m \u001b[49m\u001b[38;5;124;43m\"\u001b[39;49m\u001b[38;5;124;43mStatus\u001b[39;49m\u001b[38;5;124;43m\"\u001b[39;49m\u001b[43m,\u001b[49m\u001b[43m \u001b[49m\u001b[38;5;241;43m240\u001b[39;49m\u001b[43m)\u001b[49m\n",
      "Cell \u001b[1;32mIn[12], line 3\u001b[0m, in \u001b[0;36moutputCriticalValues\u001b[1;34m(dataframe, category, frameRate)\u001b[0m\n\u001b[0;32m      1\u001b[0m \u001b[38;5;28;01mdef\u001b[39;00m \u001b[38;5;21moutputCriticalValues\u001b[39m(dataframe, category, frameRate):\n\u001b[0;32m      2\u001b[0m     (row, col) \u001b[38;5;241m=\u001b[39m dataframe\u001b[38;5;241m.\u001b[39mshape\n\u001b[1;32m----> 3\u001b[0m     WithinRange \u001b[38;5;241m=\u001b[39m \u001b[43mdataframe\u001b[49m\u001b[43m[\u001b[49m\u001b[43mcategory\u001b[49m\u001b[43m]\u001b[49m\u001b[38;5;241;43m.\u001b[39;49m\u001b[43mvalue_counts\u001b[49m\u001b[43m(\u001b[49m\u001b[43m)\u001b[49m\u001b[43m[\u001b[49m\u001b[38;5;124;43m\"\u001b[39;49m\u001b[38;5;124;43mmedium\u001b[39;49m\u001b[38;5;124;43m\"\u001b[39;49m\u001b[43m]\u001b[49m\n\u001b[0;32m      4\u001b[0m     outofRange \u001b[38;5;241m=\u001b[39m row \u001b[38;5;241m-\u001b[39m WithinRange\n\u001b[0;32m      5\u001b[0m     durationInSecond \u001b[38;5;241m=\u001b[39m row \u001b[38;5;241m/\u001b[39m frameRate\n",
      "File \u001b[1;32m~\\anaconda3\\lib\\site-packages\\pandas\\core\\series.py:981\u001b[0m, in \u001b[0;36mSeries.__getitem__\u001b[1;34m(self, key)\u001b[0m\n\u001b[0;32m    978\u001b[0m     \u001b[38;5;28;01mreturn\u001b[39;00m \u001b[38;5;28mself\u001b[39m\u001b[38;5;241m.\u001b[39m_values[key]\n\u001b[0;32m    980\u001b[0m \u001b[38;5;28;01melif\u001b[39;00m key_is_scalar:\n\u001b[1;32m--> 981\u001b[0m     \u001b[38;5;28;01mreturn\u001b[39;00m \u001b[38;5;28;43mself\u001b[39;49m\u001b[38;5;241;43m.\u001b[39;49m\u001b[43m_get_value\u001b[49m\u001b[43m(\u001b[49m\u001b[43mkey\u001b[49m\u001b[43m)\u001b[49m\n\u001b[0;32m    983\u001b[0m \u001b[38;5;28;01mif\u001b[39;00m is_hashable(key):\n\u001b[0;32m    984\u001b[0m     \u001b[38;5;66;03m# Otherwise index.get_value will raise InvalidIndexError\u001b[39;00m\n\u001b[0;32m    985\u001b[0m     \u001b[38;5;28;01mtry\u001b[39;00m:\n\u001b[0;32m    986\u001b[0m         \u001b[38;5;66;03m# For labels that don't resolve as scalars like tuples and frozensets\u001b[39;00m\n",
      "File \u001b[1;32m~\\anaconda3\\lib\\site-packages\\pandas\\core\\series.py:1089\u001b[0m, in \u001b[0;36mSeries._get_value\u001b[1;34m(self, label, takeable)\u001b[0m\n\u001b[0;32m   1086\u001b[0m     \u001b[38;5;28;01mreturn\u001b[39;00m \u001b[38;5;28mself\u001b[39m\u001b[38;5;241m.\u001b[39m_values[label]\n\u001b[0;32m   1088\u001b[0m \u001b[38;5;66;03m# Similar to Index.get_value, but we do not fall back to positional\u001b[39;00m\n\u001b[1;32m-> 1089\u001b[0m loc \u001b[38;5;241m=\u001b[39m \u001b[38;5;28;43mself\u001b[39;49m\u001b[38;5;241;43m.\u001b[39;49m\u001b[43mindex\u001b[49m\u001b[38;5;241;43m.\u001b[39;49m\u001b[43mget_loc\u001b[49m\u001b[43m(\u001b[49m\u001b[43mlabel\u001b[49m\u001b[43m)\u001b[49m\n\u001b[0;32m   1090\u001b[0m \u001b[38;5;28;01mreturn\u001b[39;00m \u001b[38;5;28mself\u001b[39m\u001b[38;5;241m.\u001b[39mindex\u001b[38;5;241m.\u001b[39m_get_values_for_loc(\u001b[38;5;28mself\u001b[39m, loc, label)\n",
      "File \u001b[1;32m~\\anaconda3\\lib\\site-packages\\pandas\\core\\indexes\\base.py:3804\u001b[0m, in \u001b[0;36mIndex.get_loc\u001b[1;34m(self, key, method, tolerance)\u001b[0m\n\u001b[0;32m   3802\u001b[0m     \u001b[38;5;28;01mreturn\u001b[39;00m \u001b[38;5;28mself\u001b[39m\u001b[38;5;241m.\u001b[39m_engine\u001b[38;5;241m.\u001b[39mget_loc(casted_key)\n\u001b[0;32m   3803\u001b[0m \u001b[38;5;28;01mexcept\u001b[39;00m \u001b[38;5;167;01mKeyError\u001b[39;00m \u001b[38;5;28;01mas\u001b[39;00m err:\n\u001b[1;32m-> 3804\u001b[0m     \u001b[38;5;28;01mraise\u001b[39;00m \u001b[38;5;167;01mKeyError\u001b[39;00m(key) \u001b[38;5;28;01mfrom\u001b[39;00m \u001b[38;5;21;01merr\u001b[39;00m\n\u001b[0;32m   3805\u001b[0m \u001b[38;5;28;01mexcept\u001b[39;00m \u001b[38;5;167;01mTypeError\u001b[39;00m:\n\u001b[0;32m   3806\u001b[0m     \u001b[38;5;66;03m# If we have a listlike key, _check_indexing_error will raise\u001b[39;00m\n\u001b[0;32m   3807\u001b[0m     \u001b[38;5;66;03m#  InvalidIndexError. Otherwise we fall through and re-raise\u001b[39;00m\n\u001b[0;32m   3808\u001b[0m     \u001b[38;5;66;03m#  the TypeError.\u001b[39;00m\n\u001b[0;32m   3809\u001b[0m     \u001b[38;5;28mself\u001b[39m\u001b[38;5;241m.\u001b[39m_check_indexing_error(key)\n",
      "\u001b[1;31mKeyError\u001b[0m: 'medium'"
     ]
    }
   ],
   "source": [
    "def outputCriticalValues(dataframe, category, frameRate):\n",
    "    (row, col) = dataframe.shape\n",
    "    WithinRange = dataframe[category].value_counts()[\"medium\"]\n",
    "    outofRange = row - WithinRange\n",
    "    durationInSecond = row / frameRate\n",
    "    rate = outofRange / durationInSecond\n",
    "    print(f\"Number of outofRange {outofRange} in {durationInSecond} second\")\n",
    "    print(f\"Number of WithinRange {WithinRange} in {durationInSecond} second\")\n",
    "    print(f\"Number of Medium {outofRange} in {durationInSecond} second\")\n",
    "    print(f\"Number of WithinRange {WithinRange} in {durationInSecond} second\")\n",
    "    print(\"Out of Range per minute:\", rate)\n",
    "    return None\n",
    "\n",
    "outputCriticalValues(statusDataframe, \"Status\", 240)"
   ]
  },
  {
   "cell_type": "code",
   "execution_count": null,
   "id": "480944df",
   "metadata": {},
   "outputs": [],
   "source": [
    "def calculateSummary(statusDataframe):\n",
    "    \n",
    "    status_count = statusDataframe[\"Status\"].value_counts()\n",
    "    total = statusDataframe.shape[0]\n",
    "    headers = [header for header in status_count.index] \n",
    "    summary_list = [[round(count*100/total, 1), count] for _,count in zip(status_count.index, status_count.values)]\n",
    "    print(summary_list)\n",
    "\n",
    "calculateSummary(statusDataframe)"
   ]
  },
  {
   "cell_type": "code",
   "execution_count": null,
   "id": "a66c1ac9",
   "metadata": {},
   "outputs": [],
   "source": []
  },
  {
   "cell_type": "code",
   "execution_count": 21,
   "id": "4cdb8ae9",
   "metadata": {},
   "outputs": [],
   "source": [
    "def pieChart(statusDataframe, title: str = \"\"):    \n",
    "    data = statusDataframe[\"Status\"].value_counts()\n",
    "    fig = plt.figure()\n",
    "    explode = (0.05)\n",
    "    for i in range(1, data.shape[0]):\n",
    "        explode += 0.05\n",
    "    data = statusDataframe[\"Status\"].value_counts()\n",
    "    colors = {'too high': '#ff6666', 'optimal': '#ffcc99', 'too low': '#99ff99'}\n",
    "    plt.pie(data, labels = data.index,colors=[colors[c] for c in data.index], autopct='%1.1f%%')\n",
    "    #draw circle\n",
    "    centre_circle = plt.Circle((0,0),0.70,fc='white')\n",
    "    fig = plt.gcf()\n",
    "    fig.gca().add_artist(centre_circle)\n",
    "    \n",
    "    plt.axis('equal')     # Equal aspect ratio ensures that pie is drawn as a circle\n",
    "    plt.legend()\n",
    "    plt.tight_layout()\n",
    "    plt.title(title)\n",
    "    return fig    "
   ]
  },
  {
   "cell_type": "code",
   "execution_count": 22,
   "id": "12a62d70",
   "metadata": {},
   "outputs": [
    {
     "name": "stdout",
     "output_type": "stream",
     "text": [
      "too high    78\n",
      "optimal     15\n",
      "too low      8\n",
      "Name: Status, dtype: int64\n"
     ]
    },
    {
     "data": {
      "image/png": "[encoded data removed]",
      "text/plain": [
       "<Figure size 640x480 with 1 Axes>"
      ]
     },
     "metadata": {},
     "output_type": "display_data"
    }
   ],
   "source": [
    "fig = pieChart(statusDataframe)\n",
    "plt.show()"
   ]
  },
  {
   "cell_type": "code",
   "execution_count": 126,
   "id": "e8107977",
   "metadata": {},
   "outputs": [],
   "source": [
    "def outputMinMaxValues(dataframe, movement):\n",
    "    minimum = dataframe[movement].min()\n",
    "    minimum_time_inSecond = dataframe[dataframe[\"L5S1 Lateral Bending\"] == minimum].index.tolist()[0]\n",
    "    minimum_time_inMinute = round(minimum_time_inSecond / 60, 2)\n",
    "    \n",
    "    maximum = dataframe[movement].max()\n",
    "    maximum_time_inSecond = dataframe[dataframe[\"L5S1 Lateral Bending\"] == maximum].index.tolist()[0]\n",
    "    maximum_time_inMinute =round(maximum_time_inSecond / 60, 2)\n",
    "    return minimum_time_inMinute, maximum_time_inMinute"
   ]
  },
  {
   "cell_type": "code",
   "execution_count": 127,
   "id": "d71851de",
   "metadata": {},
   "outputs": [
    {
     "name": "stdout",
     "output_type": "stream",
     "text": [
      "1.3 0.38\n"
     ]
    }
   ],
   "source": [
    "x, y = outputMinMaxValues(statusDataframe, \"L5S1 Lateral Bending\")\n",
    "print(x, y)"
   ]
  },
  {
   "cell_type": "code",
   "execution_count": null,
   "id": "96c019d0",
   "metadata": {},
   "outputs": [],
   "source": []
  },
  {
   "cell_type": "code",
   "execution_count": null,
   "id": "90931d9e",
   "metadata": {},
   "outputs": [],
   "source": []
  }
 ],
 "metadata": {
  "kernelspec": {
   "display_name": "Python 3 (ipykernel)",
   "language": "python",
   "name": "python3"
  },
  "language_info": {
   "codemirror_mode": {
    "name": "ipython",
    "version": 3
   },
   "file_extension": ".py",
   "mimetype": "text/x-python",
   "name": "python",
   "nbconvert_exporter": "python",
   "pygments_lexer": "ipython3",
   "version": "3.10.9"
  }
 },
 "nbformat": 4,
 "nbformat_minor": 5
}
